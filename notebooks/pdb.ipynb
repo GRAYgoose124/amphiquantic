{
 "cells": [
  {
   "cell_type": "code",
   "execution_count": 2,
   "metadata": {},
   "outputs": [
    {
     "ename": "NameError",
     "evalue": "name 'parse_pdb' is not defined",
     "output_type": "error",
     "traceback": [
      "\u001b[0;31m---------------------------------------------------------------------------\u001b[0m",
      "\u001b[0;31mNameError\u001b[0m                                 Traceback (most recent call last)",
      "Cell \u001b[0;32mIn[2], line 8\u001b[0m\n\u001b[1;32m      4\u001b[0m \u001b[38;5;28;01mfrom\u001b[39;00m \u001b[38;5;21;01mamphiquantic\u001b[39;00m\u001b[38;5;21;01m.\u001b[39;00m\u001b[38;5;21;01mmolecule\u001b[39;00m\u001b[38;5;21;01m.\u001b[39;00m\u001b[38;5;21;01mplot\u001b[39;00m \u001b[38;5;28;01mimport\u001b[39;00m plot_molecule_with_py3dmol\n\u001b[1;32m      7\u001b[0m pdb \u001b[38;5;241m=\u001b[39m \u001b[38;5;124m\"\u001b[39m\u001b[38;5;124m/home/grayson/Documents/work/GM_Utils/metadata/moieties/literature_scanning/Mesch_MAG_2/R2_19c.pdb\u001b[39m\u001b[38;5;124m\"\u001b[39m\n\u001b[0;32m----> 8\u001b[0m plot_molecule_with_py3dmol(pdb)\n",
      "File \u001b[0;32m~/Documents/coding/python/amphiquantic/amphiquantic/molecule/plot.py:50\u001b[0m, in \u001b[0;36mplot_molecule_with_py3dmol\u001b[0;34m(filename)\u001b[0m\n\u001b[1;32m     47\u001b[0m \u001b[38;5;28;01mimport\u001b[39;00m \u001b[38;5;21;01mpy3Dmol\u001b[39;00m\n\u001b[1;32m     49\u001b[0m \u001b[38;5;28;01mwith\u001b[39;00m \u001b[38;5;28mopen\u001b[39m(filename) \u001b[38;5;28;01mas\u001b[39;00m f:\n\u001b[0;32m---> 50\u001b[0m     coords, atom_types \u001b[38;5;241m=\u001b[39m parse_pdb(f\u001b[38;5;241m.\u001b[39mreadlines())\n\u001b[1;32m     51\u001b[0m bonds, _, _ \u001b[38;5;241m=\u001b[39m determine_bonds(coords, atom_types)\n\u001b[1;32m     53\u001b[0m view \u001b[38;5;241m=\u001b[39m py3Dmol\u001b[38;5;241m.\u001b[39mview(width\u001b[38;5;241m=\u001b[39m\u001b[38;5;241m800\u001b[39m, height\u001b[38;5;241m=\u001b[39m\u001b[38;5;241m400\u001b[39m)\n",
      "\u001b[0;31mNameError\u001b[0m: name 'parse_pdb' is not defined"
     ]
    }
   ],
   "source": [
    "import os \n",
    "os.environ[\"PDBVIZ_DATA_PATH\"] = \"/home/grayson/code/python/amphiquantic/pdbviz/data\"\n",
    "\n",
    "from amphiquantic.molecule.plot import plot_molecule_with_py3dmol\n",
    "\n",
    "\n",
    "pdb = \"/home/grayson/Documents/work/GM_Utils/metadata/moieties/literature_scanning/Mesch_MAG_2/R2_19c.pdb\"\n",
    "plot_molecule_with_py3dmol(pdb)"
   ]
  }
 ],
 "metadata": {
  "kernelspec": {
   "display_name": "base",
   "language": "python",
   "name": "python3"
  },
  "language_info": {
   "codemirror_mode": {
    "name": "ipython",
    "version": 3
   },
   "file_extension": ".py",
   "mimetype": "text/x-python",
   "name": "python",
   "nbconvert_exporter": "python",
   "pygments_lexer": "ipython3",
   "version": "3.11.8"
  }
 },
 "nbformat": 4,
 "nbformat_minor": 2
}
